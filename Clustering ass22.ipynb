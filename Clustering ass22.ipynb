{
 "cells": [
  {
   "cell_type": "markdown",
   "id": "678fea69-f257-4132-80ac-09d22d261e45",
   "metadata": {},
   "source": [
    "Q1. What is hierarchical clustering, and how is it different from other clustering techniques?\n",
    "Ans-> Hierarchical clustering in which have no centroids.can handle any num of clusters.\n",
    "\n",
    "\n",
    "Q2. What are the two main types of hierarchical clustering algorithms? Describe each in brief.\n",
    "Ans-> 1) Agglomeration - for each point it will assign with a seperate cluster,then make a grou with clusters which are nearly ,keep on doing until we got  a single cluster.\n",
    "\n",
    "   2) Divisive-> reverse step of Agglomeration.\n",
    "\n",
    "Q3. How do you determine the distance between two clusters in hierarchical clustering, and what are the\n",
    "common distance metrics used?\n",
    "Ans-> Average Linkage\n",
    "Euclidean distance\n",
    "\n",
    "\n",
    "Q4. How do you determine the optimal number of clusters in hierarchical clustering, and what are some\n",
    "common methods used for this purpose?\n",
    "Ans-> We use Dendogram , use a dendrogram which is tree-like chart that shows the sequences of merges or splits of clusters. If two clusters are merged, the dendrogram will join them in a graph and the height of the join will be the distance between those clusters.\n",
    "\n",
    "\n",
    "\n",
    "Q5. What are dendrograms in hierarchical clustering, and how are they useful in analyzing the results?\n",
    "Ans-> Use a dendrogram which is tree-like chart that shows the sequences of merges or splits of clusters.\n",
    "\n",
    "\n",
    "\n",
    "Q6. Can hierarchical clustering be used for both numerical and categorical data? If yes, how are the\n",
    "distance metrics different for each type of data?\n",
    "Ans->Yes,. It can be applied to both numerical and categorical data, but the latter requires some special considerations.\n",
    "\n",
    "\n",
    "Q7. How can you use hierarchical clustering to identify outliers or anomalies in your data?\n",
    "Ans->Anomaly Detection: Hierarchical clustering can identify outliers,It is useful in fraud detection, network security, and quality control."
   ]
  },
  {
   "cell_type": "code",
   "execution_count": null,
   "id": "6cfa5f9f-512e-440d-9caf-e97075c71ce7",
   "metadata": {},
   "outputs": [],
   "source": []
  }
 ],
 "metadata": {
  "kernelspec": {
   "display_name": "Python 3 (ipykernel)",
   "language": "python",
   "name": "python3"
  },
  "language_info": {
   "codemirror_mode": {
    "name": "ipython",
    "version": 3
   },
   "file_extension": ".py",
   "mimetype": "text/x-python",
   "name": "python",
   "nbconvert_exporter": "python",
   "pygments_lexer": "ipython3",
   "version": "3.10.8"
  }
 },
 "nbformat": 4,
 "nbformat_minor": 5
}
